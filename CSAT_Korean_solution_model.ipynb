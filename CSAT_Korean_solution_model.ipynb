{
  "nbformat": 4,
  "nbformat_minor": 0,
  "metadata": {
    "colab": {
      "provenance": [],
      "authorship_tag": "ABX9TyMoNktE1HGACt5/PQ66FVWb"
    },
    "kernelspec": {
      "name": "python3",
      "display_name": "Python 3"
    },
    "language_info": {
      "name": "python"
    }
  },
  "cells": [
    {
      "cell_type": "markdown",
      "source": [
        "#이미지 전처리"
      ],
      "metadata": {
        "id": "KJBLweJmg9BW"
      }
    },
    {
      "cell_type": "code",
      "execution_count": 1,
      "metadata": {
        "id": "SKesencWkDsR",
        "colab": {
          "base_uri": "https://localhost:8080/"
        },
        "outputId": "e8cf04fa-e4a8-4d82-a999-87c3c847153f"
      },
      "outputs": [
        {
          "output_type": "stream",
          "name": "stdout",
          "text": [
            "Collecting pdfplumber\n",
            "  Downloading pdfplumber-0.11.4-py3-none-any.whl.metadata (41 kB)\n",
            "\u001b[?25l     \u001b[90m━━━━━━━━━━━━━━━━━━━━━━━━━━━━━━━━━━━━━━━━\u001b[0m \u001b[32m0.0/42.0 kB\u001b[0m \u001b[31m?\u001b[0m eta \u001b[36m-:--:--\u001b[0m\r\u001b[2K     \u001b[90m━━━━━━━━━━━━━━━━━━━━━━━━━━━━━━━━━━━━━━━━\u001b[0m \u001b[32m42.0/42.0 kB\u001b[0m \u001b[31m1.6 MB/s\u001b[0m eta \u001b[36m0:00:00\u001b[0m\n",
            "\u001b[?25hCollecting pdfminer.six==20231228 (from pdfplumber)\n",
            "  Downloading pdfminer.six-20231228-py3-none-any.whl.metadata (4.2 kB)\n",
            "Requirement already satisfied: Pillow>=9.1 in /usr/local/lib/python3.10/dist-packages (from pdfplumber) (9.4.0)\n",
            "Collecting pypdfium2>=4.18.0 (from pdfplumber)\n",
            "  Downloading pypdfium2-4.30.0-py3-none-manylinux_2_17_x86_64.manylinux2014_x86_64.whl.metadata (48 kB)\n",
            "\u001b[2K     \u001b[90m━━━━━━━━━━━━━━━━━━━━━━━━━━━━━━━━━━━━━━━━\u001b[0m \u001b[32m48.5/48.5 kB\u001b[0m \u001b[31m1.9 MB/s\u001b[0m eta \u001b[36m0:00:00\u001b[0m\n",
            "\u001b[?25hRequirement already satisfied: charset-normalizer>=2.0.0 in /usr/local/lib/python3.10/dist-packages (from pdfminer.six==20231228->pdfplumber) (3.3.2)\n",
            "Requirement already satisfied: cryptography>=36.0.0 in /usr/local/lib/python3.10/dist-packages (from pdfminer.six==20231228->pdfplumber) (43.0.0)\n",
            "Requirement already satisfied: cffi>=1.12 in /usr/local/lib/python3.10/dist-packages (from cryptography>=36.0.0->pdfminer.six==20231228->pdfplumber) (1.17.0)\n",
            "Requirement already satisfied: pycparser in /usr/local/lib/python3.10/dist-packages (from cffi>=1.12->cryptography>=36.0.0->pdfminer.six==20231228->pdfplumber) (2.22)\n",
            "Downloading pdfplumber-0.11.4-py3-none-any.whl (59 kB)\n",
            "\u001b[2K   \u001b[90m━━━━━━━━━━━━━━━━━━━━━━━━━━━━━━━━━━━━━━━━\u001b[0m \u001b[32m59.2/59.2 kB\u001b[0m \u001b[31m2.8 MB/s\u001b[0m eta \u001b[36m0:00:00\u001b[0m\n",
            "\u001b[?25hDownloading pdfminer.six-20231228-py3-none-any.whl (5.6 MB)\n",
            "\u001b[2K   \u001b[90m━━━━━━━━━━━━━━━━━━━━━━━━━━━━━━━━━━━━━━━━\u001b[0m \u001b[32m5.6/5.6 MB\u001b[0m \u001b[31m47.2 MB/s\u001b[0m eta \u001b[36m0:00:00\u001b[0m\n",
            "\u001b[?25hDownloading pypdfium2-4.30.0-py3-none-manylinux_2_17_x86_64.manylinux2014_x86_64.whl (2.8 MB)\n",
            "\u001b[2K   \u001b[90m━━━━━━━━━━━━━━━━━━━━━━━━━━━━━━━━━━━━━━━━\u001b[0m \u001b[32m2.8/2.8 MB\u001b[0m \u001b[31m48.4 MB/s\u001b[0m eta \u001b[36m0:00:00\u001b[0m\n",
            "\u001b[?25hInstalling collected packages: pypdfium2, pdfminer.six, pdfplumber\n",
            "Successfully installed pdfminer.six-20231228 pdfplumber-0.11.4 pypdfium2-4.30.0\n"
          ]
        }
      ],
      "source": [
        "!pip install pdfplumber"
      ]
    },
    {
      "cell_type": "code",
      "source": [],
      "metadata": {
        "id": "wyeeYILVWAZa"
      },
      "execution_count": null,
      "outputs": []
    },
    {
      "cell_type": "code",
      "source": [
        "import pdfplumber"
      ],
      "metadata": {
        "id": "RviXQxW8R99n"
      },
      "execution_count": 2,
      "outputs": []
    },
    {
      "cell_type": "code",
      "source": [
        "def extract_image_and_text_above(pdf_path):\n",
        "    with pdfplumber.open(pdf_path) as pdf:#pdf 파일을 연다\n",
        "        for i, page in enumerate(pdf.pages, start=1):#enumerate는 인덱스도 같이 지정하는 함수이다 start는 인덱스 시작 번호\n",
        "            if page.images:\n",
        "                for n,img in enumerate(page.images):\n",
        "                    if n==0:\n",
        "                      continue\n",
        "                    x0, y0, x1, y1 = img['x0'], img['y0'], img['x1'], img['y1']\n",
        "                    # 이미지 위쪽 텍스트를 추출하기 위해 이미지 상단에 해당하는 영역 설정\n",
        "                    top_text_box = (x0-40, page.height - (y1 + 120), x1, page.height - y1)#몇번문제인지 확인할려고함\n",
        "                    # 해당 영역에서 텍스트 추출\n",
        "                    text_above = page.within_bbox(top_text_box).extract_text()\n",
        "                    # 이미지 추출\n",
        "                    box = (x0-20, page.height - y1-13, x1+20, page.height - y0+20)\n",
        "                    cropped_image = page.crop(box).to_image(resolution=300)\n",
        "                    cropped_image.save(f\"page_{i}_{n}_image.png\")\n",
        "                    print(\"-----------------\")\n",
        "                    print(\"-----------------\")\n",
        "                    print(f\"{i}: {text_above}\")\n",
        "\n"
      ],
      "metadata": {
        "id": "VYdfcXccRRxn"
      },
      "execution_count": 53,
      "outputs": []
    },
    {
      "cell_type": "code",
      "source": [
        "file=\"/content/Untitled Folder/korA_1_mun_W7D6W226_1.pdf\""
      ],
      "metadata": {
        "id": "16CiT0AAR1JQ"
      },
      "execution_count": 28,
      "outputs": []
    },
    {
      "cell_type": "code",
      "source": [
        "extract_image_and_text_above(file)"
      ],
      "metadata": {
        "colab": {
          "base_uri": "https://localhost:8080/"
        },
        "id": "NVNfY2EWR6c0",
        "outputId": "a35ba515-30fc-4e49-df48-218f4b2df905"
      },
      "execution_count": 54,
      "outputs": [
        {
          "output_type": "stream",
          "name": "stdout",
          "text": [
            "-----------------\n",
            "-----------------\n",
            "1: 대학수학능력시험 9월\n",
            "-----------------\n",
            "-----------------\n",
            "4: 4\n",
            "8. 다음은 윗글을 읽은 학생에게 제공된 학습지의 일부이다.\n",
            "‘판단 결과’로 적절하지 않은 것은?\n",
            "-----------------\n",
            "-----------------\n",
            "6: 때문이다.\n",
            "16. 다음은 학생이 작성한 영화 감상문이다. 이에 대해 (가)\n",
            "바쟁(A)의 관점과 (나)의 정신분석학적 영화 이론(B)의 관점에\n",
            "설명한 내용으로 가장 적절한 것은? [3점]\n",
            "-----------------\n",
            "-----------------\n",
            "6: 잡아 줄 때, 마치 내 손을 잡아 주는 것처럼 느껴져 감동적이었다.\n",
            "열린 결말이라서 주인공 가족이 앞으로 어떻게 살아갈지 궁금했다.\n",
            "㉯둘째 번 영화는 초인적 주인공이 외계의 침략자를 물리치는\n",
            "내용이다. 영화 후반부까지 사건 전개를 예측하지 못할 정도로\n",
            "반전을 거듭하는 이야기와 실재라고 착각할 정도로 뛰어난 컴퓨터\n",
            "그래픽 화면은 으뜸이었지만 뻔한 결말은 아쉬웠다. 그래도 주인공이\n",
            "침략자를 무찌르는 장면에서는 내가 주인공이 되어 세상을 구하는\n",
            "것 같아서 쾌감이 느껴졌다. 그런데 영화가 끝나고 생각해 보니\n",
            "-----------------\n",
            "-----------------\n",
            "13: 작문)\n",
            "자가 제시한 자료이다. 발\n",
            "하지 않은 것은?\n",
            "-----------------\n",
            "-----------------\n",
            "13: . 발표자의 자료 활용에 대\n",
            "-----------------\n",
            "-----------------\n",
            "13: 2025학년도 대학수학능\n",
            "-----------------\n",
            "-----------------\n",
            "15: 39. 다음은 (가)에서 ‘학생1’이 참고한 계획서 의 일부와 메모\n",
            "‘학생1’이 (가)에서 점검하지 않은 것은?\n",
            "-----------------\n",
            "-----------------\n",
            "15: 40. 다음은 참여 후기 의 일부이다. (가)와 관련하여 ⓐ～ⓒ가 (나)\n",
            "반영되었다고 할 때, 이에 대한 설명으로 가장 적절한 것은? [3점\n",
            "-----------------\n",
            "-----------------\n",
            "16: 45. <보기>는 학생이 초고를 보완하기 위해 추가로 수집한 자\n",
            "이다. 자료 활용 방안으로 적절하지 않은 것은? [3점]\n",
            "<보 기>\n",
            "ㄱ. 체육 활동 관련 설문 조사 결과 (대상: 우리 학교 학생 300명\n",
            "-----------------\n",
            "-----------------\n",
            "16: \n"
          ]
        }
      ]
    },
    {
      "cell_type": "code",
      "source": [
        "copy_crop"
      ],
      "metadata": {
        "colab": {
          "base_uri": "https://localhost:8080/",
          "height": 149
        },
        "id": "oFTgKJlFR71q",
        "outputId": "4c465afb-996f-41d8-a871-2e626714465a"
      },
      "execution_count": 9,
      "outputs": [
        {
          "output_type": "error",
          "ename": "NameError",
          "evalue": "name 'copy_crop' is not defined",
          "traceback": [
            "\u001b[0;31m---------------------------------------------------------------------------\u001b[0m",
            "\u001b[0;31mNameError\u001b[0m                                 Traceback (most recent call last)",
            "\u001b[0;32m<ipython-input-9-58360ad2e273>\u001b[0m in \u001b[0;36m<cell line: 1>\u001b[0;34m()\u001b[0m\n\u001b[0;32m----> 1\u001b[0;31m \u001b[0mcopy_crop\u001b[0m\u001b[0;34m\u001b[0m\u001b[0;34m\u001b[0m\u001b[0m\n\u001b[0m",
            "\u001b[0;31mNameError\u001b[0m: name 'copy_crop' is not defined"
          ]
        }
      ]
    },
    {
      "cell_type": "code",
      "source": [
        "image_object"
      ],
      "metadata": {
        "colab": {
          "base_uri": "https://localhost:8080/",
          "height": 149
        },
        "id": "IK0PK3v5SerD",
        "outputId": "25b344a8-96be-4cce-a645-b331cb4c7b1b"
      },
      "execution_count": 10,
      "outputs": [
        {
          "output_type": "error",
          "ename": "NameError",
          "evalue": "name 'image_object' is not defined",
          "traceback": [
            "\u001b[0;31m---------------------------------------------------------------------------\u001b[0m",
            "\u001b[0;31mNameError\u001b[0m                                 Traceback (most recent call last)",
            "\u001b[0;32m<ipython-input-10-fee623ed3f18>\u001b[0m in \u001b[0;36m<cell line: 1>\u001b[0;34m()\u001b[0m\n\u001b[0;32m----> 1\u001b[0;31m \u001b[0mimage_object\u001b[0m\u001b[0;34m\u001b[0m\u001b[0;34m\u001b[0m\u001b[0m\n\u001b[0m",
            "\u001b[0;31mNameError\u001b[0m: name 'image_object' is not defined"
          ]
        }
      ]
    },
    {
      "cell_type": "code",
      "source": [],
      "metadata": {
        "id": "Yg2FBFOsSfyX"
      },
      "execution_count": null,
      "outputs": []
    }
  ]
}